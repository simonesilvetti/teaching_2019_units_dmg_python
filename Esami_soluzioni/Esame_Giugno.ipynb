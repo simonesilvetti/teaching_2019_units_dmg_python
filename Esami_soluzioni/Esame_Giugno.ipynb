{
 "cells": [
  {
   "cell_type": "markdown",
   "metadata": {},
   "source": [
    "# Appello Giugno"
   ]
  },
  {
   "cell_type": "markdown",
   "metadata": {},
   "source": [
    "### Esercizio 1\n",
    "Definire una funzione che prende in input un array di numeri interi positivi e ritorna True se sono tutti numeri pari, False altrimenti. "
   ]
  },
  {
   "cell_type": "code",
   "execution_count": 7,
   "metadata": {},
   "outputs": [],
   "source": [
    "def esercizio1(lista):\n",
    "    for l in lista:\n",
    "        if l % 2 != 0:\n",
    "            return False\n",
    "    return True"
   ]
  },
  {
   "cell_type": "markdown",
   "metadata": {},
   "source": [
    "### Esercizio 2\n",
    "Definire una lambda expression che prende in input un numero n: \n",
    "- se maggiore o uguale a 45, ritorna n + 2 \n",
    "- altrimenti ritorna n*n"
   ]
  },
  {
   "cell_type": "code",
   "execution_count": 10,
   "metadata": {},
   "outputs": [],
   "source": [
    "esercizio2 = lambda n: n+2 if n>=45 else n*n"
   ]
  },
  {
   "cell_type": "markdown",
   "metadata": {},
   "source": [
    "### Esercizio 3\n",
    "Definire una funzione ricorsiva che implementi la seguente successione: \n",
    "- a_0 = 1 \n",
    "- a_{n+1} = n*a{n}+1"
   ]
  },
  {
   "cell_type": "code",
   "execution_count": null,
   "metadata": {},
   "outputs": [],
   "source": [
    "def esercizio3(n):\n",
    "    if n<=1: \n",
    "        return 1\n",
    "    return (n-1)*esercizio3(n-1)"
   ]
  },
  {
   "cell_type": "markdown",
   "metadata": {},
   "source": [
    "### Esercizio 4\n",
    "Definire una funzione che prende in input una lista di parole e ritorna in output una tupla di due elementi: \n",
    "- il primo è la parola di lunghezza maggiore\n",
    "- il secondo è la prima parola che inizia con una vocale, se non ci sono parole con vocali salva \"#\"\n",
    "- se non ci sono parole nella lista ritorna (\"#\",\"#\")\n",
    "\n",
    "Esempio:\n",
    "- input: [\"ciao\",\"anno\",\"pipistrello\"], output: (\"pipistrello\",\"anno\")\n",
    "- input: [\"ciao\",\"pipistrello\"], output: (\"pipistrello\",\"#\")\n",
    "- input: [], output: (\"#\",\"#\")"
   ]
  },
  {
   "cell_type": "code",
   "execution_count": 5,
   "metadata": {},
   "outputs": [
    {
     "data": {
      "text/plain": [
       "('pipistrello', 'anno')"
      ]
     },
     "execution_count": 5,
     "metadata": {},
     "output_type": "execute_result"
    }
   ],
   "source": [
    "def parola_lunga(lista):\n",
    "    if(len(lista)==0):\n",
    "        return '#'\n",
    "    res = ''\n",
    "    for l in lista:\n",
    "        if(len(l)>len(res)):\n",
    "            res=l\n",
    "    return res\n",
    "\n",
    "def prima_parola_vocale(lista):\n",
    "    for l in lista:\n",
    "        if(l[0] in 'aeiou'):\n",
    "            return l\n",
    "    return '#'\n",
    "        \n",
    "\n",
    "def esercizio4(lista):\n",
    "    return (parola_lunga(lista),prima_parola_vocale(lista))\n",
    "\n",
    "\n",
    "esercizio4([\"ciao\",\"anno\",\"pipistrello\"])"
   ]
  },
  {
   "cell_type": "markdown",
   "metadata": {},
   "source": [
    "### Esercizio 5\n",
    "Usare la list comprehension per definire tutte le coppie di numeri interi positivi e compresi tra 13  e 66 (incluso), tali che il primo elemento divida il secondo e la somma è multipla di 3.\n"
   ]
  },
  {
   "cell_type": "code",
   "execution_count": null,
   "metadata": {},
   "outputs": [],
   "source": [
    "[(x,y) for x  in range(13,67) for y in range (13,67) if y%x == 0 and (x+y)%3 ==0]"
   ]
  },
  {
   "cell_type": "markdown",
   "metadata": {},
   "source": [
    "### Esercizio 6\n",
    "Definire una funzione che prende in input un dizionario (D) (con chiavi delle parole e come valori dei numeri interi), una parola (P) e un numero intero (N). \n",
    "Se la parola (P) passata in input alla funzione è già contenuta nel dizionario (D) la funzione incrementa il valore di D nel dizionario di una quantità pari a N, se non è contenuta aggiunge al dizionario l'elemento con chiave P e valore N. Alla fine la funzione ritorna il dizionario modificato. \n",
    "\n",
    "Esempio:\n",
    "\n",
    "[Input]\n",
    "D = {\"ciao\" : 12, \"pietro\": 34}\n",
    "P = \"tao\"\n",
    "N = 12\\\n",
    "[Output]\n",
    "{\"ciao\" : 12, \"pietro\": 34, \"tao\":12}\n",
    "\n",
    "\n",
    "[Input]\n",
    "D = {\"ciao\" : 12, \"pietro\": 34}\n",
    "P = \"ciao\"\n",
    "N = 5\\\n",
    "[Output]\n",
    "{\"ciao\" : 17, \"pietro\": 34}"
   ]
  },
  {
   "cell_type": "code",
   "execution_count": 6,
   "metadata": {},
   "outputs": [],
   "source": [
    "#esercizio 6\n",
    "def esercizio6(dizionario, parola, n):\n",
    "    dizionario[parola] = dizionario.get(parola,0)+n\n",
    "    return dizionario"
   ]
  }
 ],
 "metadata": {
  "kernelspec": {
   "display_name": "Python 3",
   "language": "python",
   "name": "python3"
  },
  "language_info": {
   "codemirror_mode": {
    "name": "ipython",
    "version": 3
   },
   "file_extension": ".py",
   "mimetype": "text/x-python",
   "name": "python",
   "nbconvert_exporter": "python",
   "pygments_lexer": "ipython3",
   "version": "3.6.9"
  }
 },
 "nbformat": 4,
 "nbformat_minor": 4
}
